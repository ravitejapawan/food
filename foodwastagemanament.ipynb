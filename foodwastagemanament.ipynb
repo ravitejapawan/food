{
 "cells": [
  {
   "cell_type": "raw",
   "id": "e88546cf-a62f-4111-beac-d4cafd494be7",
   "metadata": {},
   "source": [
    "Lindsey Wilson College\n",
    " \n",
    "2025 Spring S2 MSDS-MSDS 6903 \n",
    "Applied Capstone Projec t\n",
    "Instructor – Hermano Jorge de Queir oz\n",
    "Module-4\n",
    "\n",
    "\n",
    "\n",
    "\n",
    "\n",
    "Applied Capstone Project  -4\n",
    "\n",
    "\n",
    "\n",
    "\n",
    "\n",
    "\n",
    "\n",
    "Submitted by: Group\n",
    "\n",
    "Akash Shridharrao Sane (L00248285)\n",
    "\n",
    "Anitha Burri (L063788)\n",
    "\n",
    "Vamsikrishn a Somepalli L00268506)\n",
    "\n",
    "Aravind Chowdary Koya (L00264181)\n",
    "\n",
    "Goutham Rdy Marri (L00264076)arri (L00264076)\r\n",
    ":7\r\n"
   ]
  },
  {
   "cell_type": "markdown",
   "id": "f56bbd7e-848a-4094-b066-b9749a63b91e",
   "metadata": {},
   "source": [
    "# Identify Data Sources:\n",
    "\n",
    "Data Source\n",
    "For this project, we utilized a publicly available dataset from Kaggle:\n",
    "\n",
    "Dataset Name: Food Wastage Data in Restaurant\n",
    "Source: Kaggle - Trevin Hannibal\n",
    "Type: CSV file\n",
    "Description: The dataset contains information about food types, number of guests, event types, storage conditions, purchase history, and food wastage amounts. It enables exploration of patterns in food waste across restaurant operations.\n",
    "This dataset is directly aligned with the goal of the project: to identify patterns and reduce food wastage through data-driven analysis."
   ]
  },
  {
   "cell_type": "code",
   "execution_count": 23,
   "id": "4335f80c-75e2-497d-b099-422eec89c62b",
   "metadata": {},
   "outputs": [],
   "source": [
    "import numpy as np\n",
    "import matplotlib.pyplot as plt\n",
    "from mpl_toolkits.mplot3d import Axes3D\n",
    "import pandas as pd\n",
    "import shap\n",
    "import seaborn as sns\n",
    "\n",
    "from sklearn.model_selection import train_test_split\n",
    "from sklearn.metrics import mean_absolute_error, mean_squared_error, r2_score"
   ]
  },
  {
   "cell_type": "markdown",
   "id": "7746c401-f15b-4796-91fc-d21c2bcad44c",
   "metadata": {},
   "source": [
    "# Set Up Data Collection:"
   ]
  },
  {
   "cell_type": "code",
   "execution_count": 24,
   "id": "bdd68d70-64ba-40ec-a3da-d98cc7e53db0",
   "metadata": {},
   "outputs": [],
   "source": [
    "data = pd.read_csv('food_waste.csv')"
   ]
  },
  {
   "cell_type": "code",
   "execution_count": 25,
   "id": "efdba0c6-fe84-466c-acf7-124ed5481b0d",
   "metadata": {},
   "outputs": [
    {
     "data": {
      "text/html": [
       "<div>\n",
       "<style scoped>\n",
       "    .dataframe tbody tr th:only-of-type {\n",
       "        vertical-align: middle;\n",
       "    }\n",
       "\n",
       "    .dataframe tbody tr th {\n",
       "        vertical-align: top;\n",
       "    }\n",
       "\n",
       "    .dataframe thead th {\n",
       "        text-align: right;\n",
       "    }\n",
       "</style>\n",
       "<table border=\"1\" class=\"dataframe\">\n",
       "  <thead>\n",
       "    <tr style=\"text-align: right;\">\n",
       "      <th></th>\n",
       "      <th>Type of Food</th>\n",
       "      <th>Number of Guests</th>\n",
       "      <th>Event Type</th>\n",
       "      <th>Quantity of Food</th>\n",
       "      <th>Storage Conditions</th>\n",
       "      <th>Purchase History</th>\n",
       "      <th>Seasonality</th>\n",
       "      <th>Preparation Method</th>\n",
       "      <th>Geographical Location</th>\n",
       "      <th>Pricing</th>\n",
       "      <th>Wastage Food Amount</th>\n",
       "    </tr>\n",
       "  </thead>\n",
       "  <tbody>\n",
       "    <tr>\n",
       "      <th>0</th>\n",
       "      <td>Meat</td>\n",
       "      <td>310.0</td>\n",
       "      <td>Corporate</td>\n",
       "      <td>450.0</td>\n",
       "      <td>Refrigerated</td>\n",
       "      <td>Regular</td>\n",
       "      <td>All Seasons</td>\n",
       "      <td>Buffet</td>\n",
       "      <td>Urban</td>\n",
       "      <td>Low</td>\n",
       "      <td>25</td>\n",
       "    </tr>\n",
       "    <tr>\n",
       "      <th>1</th>\n",
       "      <td>Meat</td>\n",
       "      <td>400.0</td>\n",
       "      <td>Birthday</td>\n",
       "      <td>500.0</td>\n",
       "      <td>Room Temperature</td>\n",
       "      <td>Regular</td>\n",
       "      <td>Winter</td>\n",
       "      <td>Buffet</td>\n",
       "      <td>Suburban</td>\n",
       "      <td>High</td>\n",
       "      <td>40</td>\n",
       "    </tr>\n",
       "    <tr>\n",
       "      <th>2</th>\n",
       "      <td>Vegetables</td>\n",
       "      <td>302.0</td>\n",
       "      <td>Birthday</td>\n",
       "      <td>371.0</td>\n",
       "      <td>Refrigerated</td>\n",
       "      <td>Regular</td>\n",
       "      <td>Summer</td>\n",
       "      <td>Buffet</td>\n",
       "      <td>Suburban</td>\n",
       "      <td>Low</td>\n",
       "      <td>27</td>\n",
       "    </tr>\n",
       "    <tr>\n",
       "      <th>3</th>\n",
       "      <td>Meat</td>\n",
       "      <td>491.0</td>\n",
       "      <td>Birthday</td>\n",
       "      <td>497.0</td>\n",
       "      <td>Refrigerated</td>\n",
       "      <td>Regular</td>\n",
       "      <td>All Seasons</td>\n",
       "      <td>Finger Food</td>\n",
       "      <td>Rural</td>\n",
       "      <td>High</td>\n",
       "      <td>32</td>\n",
       "    </tr>\n",
       "    <tr>\n",
       "      <th>4</th>\n",
       "      <td>Meat</td>\n",
       "      <td>300.0</td>\n",
       "      <td>Corporate</td>\n",
       "      <td>400.0</td>\n",
       "      <td>Refrigerated</td>\n",
       "      <td>Regular</td>\n",
       "      <td>Winter</td>\n",
       "      <td>Finger Food</td>\n",
       "      <td>Urban</td>\n",
       "      <td>Moderate</td>\n",
       "      <td>25</td>\n",
       "    </tr>\n",
       "  </tbody>\n",
       "</table>\n",
       "</div>"
      ],
      "text/plain": [
       "  Type of Food  Number of Guests Event Type  Quantity of Food  \\\n",
       "0         Meat             310.0  Corporate             450.0   \n",
       "1         Meat             400.0   Birthday             500.0   \n",
       "2   Vegetables             302.0   Birthday             371.0   \n",
       "3         Meat             491.0   Birthday             497.0   \n",
       "4         Meat             300.0  Corporate             400.0   \n",
       "\n",
       "  Storage Conditions Purchase History  Seasonality Preparation Method  \\\n",
       "0       Refrigerated          Regular  All Seasons             Buffet   \n",
       "1   Room Temperature          Regular       Winter             Buffet   \n",
       "2       Refrigerated          Regular       Summer             Buffet   \n",
       "3       Refrigerated          Regular  All Seasons        Finger Food   \n",
       "4       Refrigerated          Regular       Winter        Finger Food   \n",
       "\n",
       "  Geographical Location   Pricing  Wastage Food Amount  \n",
       "0                 Urban       Low                   25  \n",
       "1              Suburban      High                   40  \n",
       "2              Suburban       Low                   27  \n",
       "3                 Rural      High                   32  \n",
       "4                 Urban  Moderate                   25  "
      ]
     },
     "execution_count": 25,
     "metadata": {},
     "output_type": "execute_result"
    }
   ],
   "source": [
    "data.head()"
   ]
  },
  {
   "cell_type": "markdown",
   "id": "54921c33-c2d5-41e4-8c8c-0decf5f8d581",
   "metadata": {},
   "source": [
    " ### Data Cleaning\n",
    " Steps taken:\n",
    "\n",
    "Normalized column names for consistency using lowercase and underscores.\n",
    "\n",
    "Handled missing values:\n",
    "\n",
    "Replaced missing number_of_guests and quantity_of_food with their median.\n",
    "\n",
    "Dropped duplicates to avoid data skew.\n",
    "\n",
    "Identified and flagged outliers in wastage_food_amount using both IQR and Z-Score.\n",
    "\n",
    "Normalized numerical features using Min-Max Scaling.\n",
    "\n",
    "Checked unique values for categorical columns to prepare for encoding and analysis."
   ]
  },
  {
   "cell_type": "code",
   "execution_count": 26,
   "id": "7ca3df52-3a03-433a-a09e-8803e6de0eeb",
   "metadata": {},
   "outputs": [],
   "source": [
    "data.rename(columns=lambda x: x.replace(' ', '_').lower(), inplace=True)"
   ]
  },
  {
   "cell_type": "code",
   "execution_count": 27,
   "id": "4bca7fda-e1ad-4301-bb95-f2c9980851b1",
   "metadata": {},
   "outputs": [
    {
     "data": {
      "text/html": [
       "<div>\n",
       "<style scoped>\n",
       "    .dataframe tbody tr th:only-of-type {\n",
       "        vertical-align: middle;\n",
       "    }\n",
       "\n",
       "    .dataframe tbody tr th {\n",
       "        vertical-align: top;\n",
       "    }\n",
       "\n",
       "    .dataframe thead th {\n",
       "        text-align: right;\n",
       "    }\n",
       "</style>\n",
       "<table border=\"1\" class=\"dataframe\">\n",
       "  <thead>\n",
       "    <tr style=\"text-align: right;\">\n",
       "      <th></th>\n",
       "      <th>type_of_food</th>\n",
       "      <th>number_of_guests</th>\n",
       "      <th>event_type</th>\n",
       "      <th>quantity_of_food</th>\n",
       "      <th>storage_conditions</th>\n",
       "      <th>purchase_history</th>\n",
       "      <th>seasonality</th>\n",
       "      <th>preparation_method</th>\n",
       "      <th>geographical_location</th>\n",
       "      <th>pricing</th>\n",
       "      <th>wastage_food_amount</th>\n",
       "    </tr>\n",
       "  </thead>\n",
       "  <tbody>\n",
       "    <tr>\n",
       "      <th>0</th>\n",
       "      <td>Meat</td>\n",
       "      <td>310.0</td>\n",
       "      <td>Corporate</td>\n",
       "      <td>450.0</td>\n",
       "      <td>Refrigerated</td>\n",
       "      <td>Regular</td>\n",
       "      <td>All Seasons</td>\n",
       "      <td>Buffet</td>\n",
       "      <td>Urban</td>\n",
       "      <td>Low</td>\n",
       "      <td>25</td>\n",
       "    </tr>\n",
       "    <tr>\n",
       "      <th>1</th>\n",
       "      <td>Meat</td>\n",
       "      <td>400.0</td>\n",
       "      <td>Birthday</td>\n",
       "      <td>500.0</td>\n",
       "      <td>Room Temperature</td>\n",
       "      <td>Regular</td>\n",
       "      <td>Winter</td>\n",
       "      <td>Buffet</td>\n",
       "      <td>Suburban</td>\n",
       "      <td>High</td>\n",
       "      <td>40</td>\n",
       "    </tr>\n",
       "    <tr>\n",
       "      <th>2</th>\n",
       "      <td>Vegetables</td>\n",
       "      <td>302.0</td>\n",
       "      <td>Birthday</td>\n",
       "      <td>371.0</td>\n",
       "      <td>Refrigerated</td>\n",
       "      <td>Regular</td>\n",
       "      <td>Summer</td>\n",
       "      <td>Buffet</td>\n",
       "      <td>Suburban</td>\n",
       "      <td>Low</td>\n",
       "      <td>27</td>\n",
       "    </tr>\n",
       "    <tr>\n",
       "      <th>3</th>\n",
       "      <td>Meat</td>\n",
       "      <td>491.0</td>\n",
       "      <td>Birthday</td>\n",
       "      <td>497.0</td>\n",
       "      <td>Refrigerated</td>\n",
       "      <td>Regular</td>\n",
       "      <td>All Seasons</td>\n",
       "      <td>Finger Food</td>\n",
       "      <td>Rural</td>\n",
       "      <td>High</td>\n",
       "      <td>32</td>\n",
       "    </tr>\n",
       "    <tr>\n",
       "      <th>4</th>\n",
       "      <td>Meat</td>\n",
       "      <td>300.0</td>\n",
       "      <td>Corporate</td>\n",
       "      <td>400.0</td>\n",
       "      <td>Refrigerated</td>\n",
       "      <td>Regular</td>\n",
       "      <td>Winter</td>\n",
       "      <td>Finger Food</td>\n",
       "      <td>Urban</td>\n",
       "      <td>Moderate</td>\n",
       "      <td>25</td>\n",
       "    </tr>\n",
       "  </tbody>\n",
       "</table>\n",
       "</div>"
      ],
      "text/plain": [
       "  type_of_food  number_of_guests event_type  quantity_of_food  \\\n",
       "0         Meat             310.0  Corporate             450.0   \n",
       "1         Meat             400.0   Birthday             500.0   \n",
       "2   Vegetables             302.0   Birthday             371.0   \n",
       "3         Meat             491.0   Birthday             497.0   \n",
       "4         Meat             300.0  Corporate             400.0   \n",
       "\n",
       "  storage_conditions purchase_history  seasonality preparation_method  \\\n",
       "0       Refrigerated          Regular  All Seasons             Buffet   \n",
       "1   Room Temperature          Regular       Winter             Buffet   \n",
       "2       Refrigerated          Regular       Summer             Buffet   \n",
       "3       Refrigerated          Regular  All Seasons        Finger Food   \n",
       "4       Refrigerated          Regular       Winter        Finger Food   \n",
       "\n",
       "  geographical_location   pricing  wastage_food_amount  \n",
       "0                 Urban       Low                   25  \n",
       "1              Suburban      High                   40  \n",
       "2              Suburban       Low                   27  \n",
       "3                 Rural      High                   32  \n",
       "4                 Urban  Moderate                   25  "
      ]
     },
     "execution_count": 27,
     "metadata": {},
     "output_type": "execute_result"
    }
   ],
   "source": [
    "data.head()"
   ]
  },
  {
   "cell_type": "code",
   "execution_count": 28,
   "id": "01369788-e9ac-4b79-ad16-10cdeb78a86d",
   "metadata": {},
   "outputs": [
    {
     "data": {
      "text/plain": [
       "(1782, 11)"
      ]
     },
     "execution_count": 28,
     "metadata": {},
     "output_type": "execute_result"
    }
   ],
   "source": [
    "data.shape"
   ]
  },
  {
   "cell_type": "markdown",
   "id": "f0c59bf5-f89e-430b-a27e-96e85af4ef80",
   "metadata": {},
   "source": [
    "data.columns"
   ]
  },
  {
   "cell_type": "code",
   "execution_count": 29,
   "id": "91750c9f-92e6-4bb0-833c-e72bce4f97ef",
   "metadata": {},
   "outputs": [
    {
     "data": {
      "text/plain": [
       "type_of_food              object\n",
       "number_of_guests         float64\n",
       "event_type                object\n",
       "quantity_of_food         float64\n",
       "storage_conditions        object\n",
       "purchase_history          object\n",
       "seasonality               object\n",
       "preparation_method        object\n",
       "geographical_location     object\n",
       "pricing                   object\n",
       "wastage_food_amount        int64\n",
       "dtype: object"
      ]
     },
     "execution_count": 29,
     "metadata": {},
     "output_type": "execute_result"
    }
   ],
   "source": [
    "data.dtypes"
   ]
  },
  {
   "cell_type": "markdown",
   "id": "7807eecd-eaa6-4a77-a7a2-66f41f066605",
   "metadata": {},
   "source": [
    "# Check for nulls"
   ]
  },
  {
   "cell_type": "code",
   "execution_count": 30,
   "id": "01f6a2bf-d55d-49e6-a5ac-dbd0ade8df5c",
   "metadata": {},
   "outputs": [
    {
     "name": "stdout",
     "output_type": "stream",
     "text": [
      "type_of_food             0\n",
      "number_of_guests         2\n",
      "event_type               0\n",
      "quantity_of_food         3\n",
      "storage_conditions       0\n",
      "purchase_history         0\n",
      "seasonality              0\n",
      "preparation_method       0\n",
      "geographical_location    0\n",
      "pricing                  0\n",
      "wastage_food_amount      0\n",
      "dtype: int64\n"
     ]
    }
   ],
   "source": [
    "\r\n",
    "print(data.isnull().sum())"
   ]
  },
  {
   "cell_type": "markdown",
   "id": "9b41e9f4-0460-4477-8eb8-e34cd3804870",
   "metadata": {},
   "source": [
    "### Let's Handle Those Missing Values\n",
    " Fill with Mean or Median\n",
    " \n",
    "Since both are numerical features, we can fill missing values using the mean or median depending on distribution.\n",
    "\n",
    " we  prefer median (more robust to outliers)\n",
    "\n",
    "\n"
   ]
  },
  {
   "cell_type": "code",
   "execution_count": 31,
   "id": "1617aeda-228a-43c2-9027-fbbb7a64ce3d",
   "metadata": {},
   "outputs": [],
   "source": [
    "data['number_of_guests'].fillna(data['number_of_guests'].median(), inplace=True)\n",
    "data['quantity_of_food'].fillna(data['quantity_of_food'].median(), inplace=True)\n"
   ]
  },
  {
   "cell_type": "code",
   "execution_count": 32,
   "id": "64abcc37-e076-4411-aa43-2088520b0e3e",
   "metadata": {},
   "outputs": [
    {
     "name": "stdout",
     "output_type": "stream",
     "text": [
      "Missing values after cleanup:\n",
      " type_of_food             0\n",
      "number_of_guests         0\n",
      "event_type               0\n",
      "quantity_of_food         0\n",
      "storage_conditions       0\n",
      "purchase_history         0\n",
      "seasonality              0\n",
      "preparation_method       0\n",
      "geographical_location    0\n",
      "pricing                  0\n",
      "wastage_food_amount      0\n",
      "dtype: int64\n"
     ]
    }
   ],
   "source": [
    "print(\"Missing values after cleanup:\\n\", data.isnull().sum())\n"
   ]
  },
  {
   "cell_type": "markdown",
   "id": "f0dbc3d5-2f19-490c-8487-6c1455155fb1",
   "metadata": {},
   "source": [
    "# Drop duplicates\n",
    "\n"
   ]
  },
  {
   "cell_type": "code",
   "execution_count": 33,
   "id": "1fd485aa-a36a-44be-9425-06e0f7bfb215",
   "metadata": {},
   "outputs": [
    {
     "name": "stdout",
     "output_type": "stream",
     "text": [
      "True\n"
     ]
    }
   ],
   "source": [
    "duplicates_exist = data.duplicated().any()\n",
    "print(duplicates_exist)  # True if duplicates exist, False otherwise\n"
   ]
  },
  {
   "cell_type": "code",
   "execution_count": 34,
   "id": "2437432a-5af9-46dc-84d2-faea979cc01c",
   "metadata": {},
   "outputs": [],
   "source": [
    "data = data.drop_duplicates()"
   ]
  },
  {
   "cell_type": "code",
   "execution_count": 35,
   "id": "c1d357cb-cfff-4076-87ed-3d34df6bdcba",
   "metadata": {},
   "outputs": [
    {
     "name": "stdout",
     "output_type": "stream",
     "text": [
      "False\n"
     ]
    }
   ],
   "source": [
    "duplicates_exist = data.duplicated().any()\n",
    "print(duplicates_exist)  # True if duplicates exist, False otherwise"
   ]
  },
  {
   "cell_type": "markdown",
   "id": "a48ffef6-2f85-4660-a499-aadd42947638",
   "metadata": {},
   "source": [
    "# checking for outliers or unexpected values in numerical columns."
   ]
  },
  {
   "cell_type": "code",
   "execution_count": 36,
   "id": "b4091ca3-f881-4ff3-8b37-d16092706e5a",
   "metadata": {},
   "outputs": [
    {
     "data": {
      "image/png": "[encoded data removed]",
      "text/plain": [
       "<Figure size 640x480 with 1 Axes>"
      ]
     },
     "metadata": {},
     "output_type": "display_data"
    }
   ],
   "source": [
    "import seaborn as sns\n",
    "import matplotlib.pyplot as plt\n",
    "\n",
    "# Visualize outliers\n",
    "sns.boxplot(x=data['wastage_food_amount'])\n",
    "plt.title(\"Outlier Check - Wastage Amount\")\n",
    "plt.show()\n"
   ]
  },
  {
   "cell_type": "code",
   "execution_count": 37,
   "id": "50a6c248-e8e5-4d8c-80a5-ba310fc4a523",
   "metadata": {},
   "outputs": [
    {
     "name": "stdout",
     "output_type": "stream",
     "text": [
      "        type_of_food  number_of_guests        event_type  quantity_of_food  \\\n",
      "211   Dairy Products             488.0         Corporate             498.0   \n",
      "263           Fruits             488.0         Corporate             498.0   \n",
      "334      Baked Goods             488.0         Corporate             498.0   \n",
      "852             Meat             488.0  Social Gathering             498.0   \n",
      "928             Meat             488.0           Wedding             498.0   \n",
      "1007     Baked Goods             488.0           Wedding             498.0   \n",
      "1298          Fruits             488.0  Social Gathering             498.0   \n",
      "1327  Dairy Products             488.0         Corporate             498.0   \n",
      "1741     Baked Goods             488.0         Corporate             498.0   \n",
      "\n",
      "     storage_conditions purchase_history  seasonality preparation_method  \\\n",
      "211    Room Temperature          Regular       Summer        Finger Food   \n",
      "263    Room Temperature          Regular       Summer        Finger Food   \n",
      "334    Room Temperature          Regular       Summer        Finger Food   \n",
      "852        Refrigerated          Regular  All Seasons        Finger Food   \n",
      "928        Refrigerated          Regular       Winter        Finger Food   \n",
      "1007   Room Temperature          Regular       Winter        Finger Food   \n",
      "1298   Room Temperature          Regular       Winter        Finger Food   \n",
      "1327   Room Temperature          Regular  All Seasons        Finger Food   \n",
      "1741   Room Temperature          Regular       Winter        Finger Food   \n",
      "\n",
      "     geographical_location pricing  wastage_food_amount  \n",
      "211               Suburban    High                   63  \n",
      "263                  Rural    High                   63  \n",
      "334               Suburban    High                   63  \n",
      "852                  Rural    High                   63  \n",
      "928                  Rural    High                   63  \n",
      "1007                 Rural    High                   63  \n",
      "1298                 Rural    High                   63  \n",
      "1327                 Urban    High                   63  \n",
      "1741                 Urban    High                   63  \n"
     ]
    }
   ],
   "source": [
    "Q1 = data['wastage_food_amount'].quantile(0.25)\n",
    "Q3 = data['wastage_food_amount'].quantile(0.75)\n",
    "IQR = Q3 - Q1\n",
    "\n",
    "lower_bound = Q1 - 1.5 * IQR\n",
    "upper_bound = Q3 + 1.5 * IQR\n",
    "\n",
    "# Identify outliers\n",
    "outliers = data[(data['wastage_food_amount'] < lower_bound) | (data['wastage_food_amount'] > upper_bound)]\n",
    "print(outliers)\n"
   ]
  },
  {
   "cell_type": "code",
   "execution_count": 38,
   "id": "b49e16c8-6b37-4f2e-b117-b8e99b5215ec",
   "metadata": {},
   "outputs": [
    {
     "name": "stdout",
     "output_type": "stream",
     "text": [
      "        type_of_food  number_of_guests        event_type  quantity_of_food  \\\n",
      "211   Dairy Products             488.0         Corporate             498.0   \n",
      "263           Fruits             488.0         Corporate             498.0   \n",
      "334      Baked Goods             488.0         Corporate             498.0   \n",
      "852             Meat             488.0  Social Gathering             498.0   \n",
      "928             Meat             488.0           Wedding             498.0   \n",
      "1007     Baked Goods             488.0           Wedding             498.0   \n",
      "1298          Fruits             488.0  Social Gathering             498.0   \n",
      "1327  Dairy Products             488.0         Corporate             498.0   \n",
      "1741     Baked Goods             488.0         Corporate             498.0   \n",
      "\n",
      "     storage_conditions purchase_history  seasonality preparation_method  \\\n",
      "211    Room Temperature          Regular       Summer        Finger Food   \n",
      "263    Room Temperature          Regular       Summer        Finger Food   \n",
      "334    Room Temperature          Regular       Summer        Finger Food   \n",
      "852        Refrigerated          Regular  All Seasons        Finger Food   \n",
      "928        Refrigerated          Regular       Winter        Finger Food   \n",
      "1007   Room Temperature          Regular       Winter        Finger Food   \n",
      "1298   Room Temperature          Regular       Winter        Finger Food   \n",
      "1327   Room Temperature          Regular  All Seasons        Finger Food   \n",
      "1741   Room Temperature          Regular       Winter        Finger Food   \n",
      "\n",
      "     geographical_location pricing  wastage_food_amount   z_score  \n",
      "211               Suburban    High                   63  3.304063  \n",
      "263                  Rural    High                   63  3.304063  \n",
      "334               Suburban    High                   63  3.304063  \n",
      "852                  Rural    High                   63  3.304063  \n",
      "928                  Rural    High                   63  3.304063  \n",
      "1007                 Rural    High                   63  3.304063  \n",
      "1298                 Rural    High                   63  3.304063  \n",
      "1327                 Urban    High                   63  3.304063  \n",
      "1741                 Urban    High                   63  3.304063  \n"
     ]
    }
   ],
   "source": [
    "from scipy.stats import zscore\n",
    "\n",
    "data['z_score'] = zscore(data['wastage_food_amount'])\n",
    "\n",
    "# Set threshold (e.g., > 3 or < -3)\n",
    "outliers = data[(data['z_score'].abs() > 3)]\n",
    "print(outliers)\n"
   ]
  },
  {
   "cell_type": "code",
   "execution_count": 39,
   "id": "ba13ef32-2837-4a2c-8eea-84a9da2450ba",
   "metadata": {},
   "outputs": [
    {
     "name": "stdout",
     "output_type": "stream",
     "text": [
      "Outliers found:\n",
      "         type_of_food  number_of_guests        event_type  quantity_of_food  \\\n",
      "211   Dairy Products             488.0         Corporate             498.0   \n",
      "263           Fruits             488.0         Corporate             498.0   \n",
      "334      Baked Goods             488.0         Corporate             498.0   \n",
      "852             Meat             488.0  Social Gathering             498.0   \n",
      "928             Meat             488.0           Wedding             498.0   \n",
      "1007     Baked Goods             488.0           Wedding             498.0   \n",
      "1298          Fruits             488.0  Social Gathering             498.0   \n",
      "1327  Dairy Products             488.0         Corporate             498.0   \n",
      "1741     Baked Goods             488.0         Corporate             498.0   \n",
      "\n",
      "     storage_conditions purchase_history  seasonality preparation_method  \\\n",
      "211    Room Temperature          Regular       Summer        Finger Food   \n",
      "263    Room Temperature          Regular       Summer        Finger Food   \n",
      "334    Room Temperature          Regular       Summer        Finger Food   \n",
      "852        Refrigerated          Regular  All Seasons        Finger Food   \n",
      "928        Refrigerated          Regular       Winter        Finger Food   \n",
      "1007   Room Temperature          Regular       Winter        Finger Food   \n",
      "1298   Room Temperature          Regular       Winter        Finger Food   \n",
      "1327   Room Temperature          Regular  All Seasons        Finger Food   \n",
      "1741   Room Temperature          Regular       Winter        Finger Food   \n",
      "\n",
      "     geographical_location pricing  wastage_food_amount   z_score  \n",
      "211               Suburban    High                   63  3.304063  \n",
      "263                  Rural    High                   63  3.304063  \n",
      "334               Suburban    High                   63  3.304063  \n",
      "852                  Rural    High                   63  3.304063  \n",
      "928                  Rural    High                   63  3.304063  \n",
      "1007                 Rural    High                   63  3.304063  \n",
      "1298                 Rural    High                   63  3.304063  \n",
      "1327                 Urban    High                   63  3.304063  \n",
      "1741                 Urban    High                   63  3.304063  \n"
     ]
    }
   ],
   "source": [
    "outliers = data[(data['wastage_food_amount'] < lower_bound) | (data['wastage_food_amount'] > upper_bound)]\n",
    "print(\"Outliers found:\\n\", outliers)\n"
   ]
  },
  {
   "cell_type": "markdown",
   "id": "57e869ec-0036-4cc2-8adc-60a55f1b22cc",
   "metadata": {},
   "source": [
    "# Reslove outliers "
   ]
  },
  {
   "cell_type": "code",
   "execution_count": 40,
   "id": "b6d1271b-121f-4305-90ef-3412fd6e419c",
   "metadata": {},
   "outputs": [
    {
     "name": "stdout",
     "output_type": "stream",
     "text": [
      "  type_of_food  number_of_guests event_type  quantity_of_food  \\\n",
      "0         Meat          0.362676  Corporate          0.772727   \n",
      "1         Meat          0.679577   Birthday          1.000000   \n",
      "2   Vegetables          0.334507   Birthday          0.413636   \n",
      "3         Meat          1.000000   Birthday          0.986364   \n",
      "4         Meat          0.327465  Corporate          0.545455   \n",
      "\n",
      "  storage_conditions purchase_history  seasonality preparation_method  \\\n",
      "0       Refrigerated          Regular  All Seasons             Buffet   \n",
      "1   Room Temperature          Regular       Winter             Buffet   \n",
      "2       Refrigerated          Regular       Summer             Buffet   \n",
      "3       Refrigerated          Regular  All Seasons        Finger Food   \n",
      "4       Refrigerated          Regular       Winter        Finger Food   \n",
      "\n",
      "  geographical_location   pricing  wastage_food_amount   z_score  \n",
      "0                 Urban       Low             0.283019 -0.349881  \n",
      "1              Suburban      High             0.566038  1.092465  \n",
      "2              Suburban       Low             0.320755 -0.157568  \n",
      "3                 Rural      High             0.415094  0.323214  \n",
      "4                 Urban  Moderate             0.283019 -0.349881  \n"
     ]
    }
   ],
   "source": [
    "from sklearn.preprocessing import MinMaxScaler\n",
    "\n",
    "# Create a copy of the original data\n",
    "normalized_data = data.copy()\n",
    "\n",
    "# Columns to normalize\n",
    "columns_to_normalize = ['number_of_guests', 'quantity_of_food', 'wastage_food_amount']\n",
    "\n",
    "scaler = MinMaxScaler()\n",
    "normalized_data[columns_to_normalize] = scaler.fit_transform(normalized_data[columns_to_normalize])\n",
    "\n",
    "print(normalized_data.head())\n"
   ]
  },
  {
   "cell_type": "markdown",
   "id": "de25a589-0c1b-4a6f-b0b2-ba48165925cc",
   "metadata": {},
   "source": [
    "# Check Unique Values in Categorical Columns"
   ]
  },
  {
   "cell_type": "code",
   "execution_count": 41,
   "id": "c3009874-8b8c-44bb-96c0-fd24e7f84957",
   "metadata": {},
   "outputs": [
    {
     "name": "stdout",
     "output_type": "stream",
     "text": [
      "['Meat' 'Vegetables' 'Fruits' 'Baked Goods' 'Dairy Products']\n",
      "['Corporate' 'Birthday' 'Wedding' 'Social Gathering']\n",
      "['Refrigerated' 'Room Temperature']\n",
      "['Regular' 'Occasional']\n",
      "['All Seasons' 'Winter' 'Summer']\n",
      "['Buffet' 'Finger Food' 'Sit-down Dinner']\n",
      "['Urban' 'Suburban' 'Rural']\n",
      "['Low' 'High' 'Moderate']\n"
     ]
    }
   ],
   "source": [
    "print(data['type_of_food'].unique())\n",
    "print(data['event_type'].unique())\n",
    "print(data['storage_conditions'].unique())\n",
    "print(data['purchase_history'].unique())\n",
    "print(data['seasonality'].unique())\n",
    "print(data['preparation_method'].unique())\n",
    "print(data['geographical_location'].unique())\n",
    "print(data['pricing'].unique())\n",
    "\n",
    "       "
   ]
  },
  {
   "cell_type": "code",
   "execution_count": 42,
   "id": "1e3f4b3b-83c4-4996-940d-206ac69e75b6",
   "metadata": {},
   "outputs": [
    {
     "name": "stdout",
     "output_type": "stream",
     "text": [
      "type_of_food\n",
      "Meat              398\n",
      "Baked Goods       367\n",
      "Dairy Products    348\n",
      "Fruits            303\n",
      "Vegetables        203\n",
      "Name: count, dtype: int64\n",
      "event_type\n",
      "Corporate           463\n",
      "Social Gathering    417\n",
      "Wedding             407\n",
      "Birthday            332\n",
      "Name: count, dtype: int64\n",
      "storage_conditions\n",
      "Room Temperature    1037\n",
      "Refrigerated         582\n",
      "Name: count, dtype: int64\n",
      "purchase_history\n",
      "Regular       1418\n",
      "Occasional     201\n",
      "Name: count, dtype: int64\n",
      "seasonality\n",
      "Winter         580\n",
      "All Seasons    549\n",
      "Summer         490\n",
      "Name: count, dtype: int64\n",
      "preparation_method\n",
      "Sit-down Dinner    721\n",
      "Finger Food        627\n",
      "Buffet             271\n",
      "Name: count, dtype: int64\n",
      "geographical_location\n",
      "Suburban    746\n",
      "Urban       513\n",
      "Rural       360\n",
      "Name: count, dtype: int64\n",
      "pricing\n",
      "High        613\n",
      "Moderate    596\n",
      "Low         410\n",
      "Name: count, dtype: int64\n"
     ]
    }
   ],
   "source": [
    "# Look at value counts\n",
    "\n",
    "print(data['type_of_food'].value_counts())\n",
    "print(data['event_type'].value_counts())\n",
    "print(data['storage_conditions'].value_counts())\n",
    "print(data['purchase_history'].value_counts())\n",
    "print(data['seasonality'].value_counts())\n",
    "print(data['preparation_method'].value_counts())\n",
    "print(data['geographical_location'].value_counts())\n",
    "print(data['pricing'].value_counts())\n",
    "\n"
   ]
  },
  {
   "cell_type": "markdown",
   "id": "c4347005-da54-406b-91a0-29c801591450",
   "metadata": {},
   "source": [
    "# Data Storage:\r\n",
    "\n",
    "Set up a data storage solution that suits your needs. This could be a local database, cloud storage, or a data warehouse."
   ]
  },
  {
   "cell_type": "code",
   "execution_count": 43,
   "id": "7c8f1aea-3a19-4402-bed0-1063a30ea143",
   "metadata": {},
   "outputs": [
    {
     "name": "stdout",
     "output_type": "stream",
     "text": [
      "  type_of_food  number_of_guests event_type  quantity_of_food  \\\n",
      "0         Meat             310.0  Corporate             450.0   \n",
      "1         Meat             400.0   Birthday             500.0   \n",
      "2   Vegetables             302.0   Birthday             371.0   \n",
      "3         Meat             491.0   Birthday             497.0   \n",
      "4         Meat             300.0  Corporate             400.0   \n",
      "\n",
      "  storage_conditions purchase_history  seasonality preparation_method  \\\n",
      "0       Refrigerated          Regular  All Seasons             Buffet   \n",
      "1   Room Temperature          Regular       Winter             Buffet   \n",
      "2       Refrigerated          Regular       Summer             Buffet   \n",
      "3       Refrigerated          Regular  All Seasons        Finger Food   \n",
      "4       Refrigerated          Regular       Winter        Finger Food   \n",
      "\n",
      "  geographical_location   pricing  wastage_food_amount   z_score  \n",
      "0                 Urban       Low                   25 -0.349881  \n",
      "1              Suburban      High                   40  1.092465  \n",
      "2              Suburban       Low                   27 -0.157568  \n",
      "3                 Rural      High                   32  0.323214  \n",
      "4                 Urban  Moderate                   25 -0.349881  \n"
     ]
    }
   ],
   "source": [
    "import sqlite3\n",
    "\n",
    "# Connect or create a local DB\n",
    "conn = sqlite3.connect('restaurant_waste.db')\n",
    "\n",
    "# Save to table\n",
    "data.to_sql('food_waste', conn, if_exists='replace', index=False)\n",
    "\n",
    "# Verify save\n",
    "print(pd.read_sql(\"SELECT * FROM food_waste LIMIT 5\", conn))\n",
    "\n",
    "conn.close()\n"
   ]
  },
  {
   "cell_type": "code",
   "execution_count": 44,
   "id": "5d2fe492-4f03-43b9-8218-3a6ab60f138a",
   "metadata": {},
   "outputs": [],
   "source": [
    "\n",
    "# Step 1: Import Required Libraries\n",
    "import pandas as pd\n",
    "import numpy as np\n",
    "import xgboost as xgb\n",
    "from sklearn.model_selection import train_test_split, GridSearchCV, cross_val_score\n",
    "from sklearn.preprocessing import LabelEncoder, StandardScaler\n",
    "from sklearn.metrics import mean_absolute_error, mean_squared_error, r2_score\n",
    "from math import sqrt\n",
    "import warnings\n",
    "warnings.filterwarnings(\"ignore\")\n",
    "\n",
    "\n"
   ]
  },
  {
   "cell_type": "code",
   "execution_count": 45,
   "id": "c4751ed8-f344-464b-a3cc-8235b3e80d07",
   "metadata": {},
   "outputs": [],
   "source": [
    "df=data"
   ]
  },
  {
   "cell_type": "code",
   "execution_count": 46,
   "id": "53c1c184-d51b-4758-b37b-4d4cd18e6e22",
   "metadata": {},
   "outputs": [],
   "source": [
    "# Step 4: Encode Categorical Variables\n",
    "label_encoders = {}\n",
    "categorical_columns = ['type_of_food', 'event_type', 'storage_conditions',\n",
    "                       'purchase_history', 'seasonality', 'preparation_method',\n",
    "                       'geographical_location', 'pricing']\n"
   ]
  },
  {
   "cell_type": "code",
   "execution_count": 47,
   "id": "169dac08-8015-41f2-83c4-11d2ce44b92b",
   "metadata": {},
   "outputs": [],
   "source": [
    "\n",
    "for col in categorical_columns:\n",
    "    le = LabelEncoder()\n",
    "    df[col] = le.fit_transform(df[col])\n",
    "    label_encoders[col] = le\n",
    "\n"
   ]
  },
  {
   "cell_type": "code",
   "execution_count": 48,
   "id": "92851c62-3684-4f98-8acc-7844989e5650",
   "metadata": {},
   "outputs": [],
   "source": [
    "# Step 5: Define Features and Target\n",
    "X = df.drop(columns=['wastage_food_amount', 'z_score'])  # Feature set\n",
    "y = df['wastage_food_amount']                             # Target variable\n",
    "\n"
   ]
  },
  {
   "cell_type": "code",
   "execution_count": 49,
   "id": "57ca39d4-487b-4db1-b9e6-8aff2a55fe76",
   "metadata": {},
   "outputs": [
    {
     "name": "stdout",
     "output_type": "stream",
     "text": [
      "Best XGBoost Parameters: {'learning_rate': 0.2, 'max_depth': 3, 'n_estimators': 200}\n"
     ]
    }
   ],
   "source": [
    "# Step 6: Normalize Features\n",
    "scaler = StandardScaler()\n",
    "X = scaler.fit_transform(X)\n",
    "\n",
    "# Step 7: Train-Test Split\n",
    "X_train, X_test, y_train, y_test = train_test_split(X, y, test_size=0.2, random_state=42)\n",
    "\n",
    "\n",
    "param_grid = {\n",
    "    'n_estimators': [100, 200],\n",
    "    'learning_rate': [0.1, 0.2],\n",
    "    'max_depth': [3, 5]\n",
    "}\n",
    "\n",
    "grid_search = GridSearchCV(xgb.XGBRegressor(objective='reg:squarederror'), param_grid, scoring='r2', cv=3)\n",
    "grid_search.fit(X_train, y_train)\n",
    "best_params = grid_search.best_params_\n",
    "print(\"Best XGBoost Parameters:\", best_params)"
   ]
  },
  {
   "cell_type": "code",
   "execution_count": 50,
   "id": "132d0454-b0e4-41e0-b420-07b1c4681f86",
   "metadata": {},
   "outputs": [],
   "source": [
    "# Step 9: Import Other Models\n",
    "from sklearn.linear_model import LinearRegression\n",
    "from sklearn.tree import DecisionTreeRegressor\n",
    "from sklearn.ensemble import RandomForestRegressor\n",
    "from sklearn.svm import SVR\n",
    "from sklearn.neighbors import KNeighborsRegressor\n",
    "\n",
    "# Step 10: Define and Train All Models\n",
    "models = {\n",
    "    \"Linear Regression\": LinearRegression(),\n",
    "    \"Decision Tree\": DecisionTreeRegressor(random_state=42),\n",
    "    \"Random Forest\": RandomForestRegressor(n_estimators=100, random_state=42),\n",
    "    \"Support Vector Regressor\": SVR(),\n",
    "    \"KNN Regressor\": KNeighborsRegressor(n_neighbors=5),\n",
    "    \"XGBoost\": xgb.XGBRegressor(objective='reg:squarederror', **best_params)\n",
    "}\n",
    "\n"
   ]
  },
  {
   "cell_type": "code",
   "execution_count": 51,
   "id": "abcd4a81-4c90-4546-9cf8-f2c934e411b9",
   "metadata": {},
   "outputs": [
    {
     "name": "stdout",
     "output_type": "stream",
     "text": [
      "\n",
      "Model Performance Comparison:\n",
      "\n",
      "                      Model     MAE    RMSE  R2 Score\n",
      "5                   XGBoost  1.9236  2.7438    0.9306\n",
      "2             Random Forest  1.7609  2.9152    0.9217\n",
      "1             Decision Tree  1.6821  3.5213    0.8857\n",
      "4             KNN Regressor  4.4340  5.8673    0.6828\n",
      "3  Support Vector Regressor  4.8139  6.4151    0.6208\n",
      "0         Linear Regression  5.2919  6.6040    0.5982\n",
      "\n",
      "XGBoost Cross-Validation R2 Scores: [0.91137101 0.93776355 0.93309587 0.90663426 0.9010145 ]\n",
      "Mean CV R2 Score: 0.9179758377332187\n"
     ]
    }
   ],
   "source": [
    "#Step 11: Train, Predict, Evaluate\n",
    "results = []\n",
    "\n",
    "for name, model in models.items():\n",
    "    model.fit(X_train, y_train)\n",
    "    y_pred = model.predict(X_test)\n",
    "    \n",
    "    mae = mean_absolute_error(y_test, y_pred)\n",
    "    rmse = sqrt(mean_squared_error(y_test, y_pred))\n",
    "    r2 = r2_score(y_test, y_pred)\n",
    "    \n",
    "    results.append({\n",
    "        'Model': name,\n",
    "        'MAE': round(mae, 4),\n",
    "        'RMSE': round(rmse, 4),\n",
    "        'R2 Score': round(r2, 4)\n",
    "    })\n",
    "\n",
    "# Step 12: Display Evaluation Results\n",
    "results_df = pd.DataFrame(results)\n",
    "print(\"\\nModel Performance Comparison:\\n\")\n",
    "print(results_df.sort_values(by=\"R2 Score\", ascending=False))\n",
    "\n",
    "# Optional: Cross-Validation for Best Model (XGBoost)\n",
    "best_model = models[\"XGBoost\"]\n",
    "cv_scores = cross_val_score(best_model, X, y, scoring='r2', cv=5)\n",
    "print(\"\\nXGBoost Cross-Validation R2 Scores:\", cv_scores)\n",
    "print(\"Mean CV R2 Score:\", np.mean(cv_scores))\n"
   ]
  },
  {
   "cell_type": "markdown",
   "id": "8952ab65-3ffa-41f6-b01f-608ee3f779fb",
   "metadata": {},
   "source": [
    "### best Model XGBoost \n"
   ]
  },
  {
   "cell_type": "markdown",
   "id": "db820ba5-9114-49ed-a7aa-be0cc2d7ee56",
   "metadata": {},
   "source": [
    "  Model     MAE    RMSE  R2 Score\n",
    "  \n",
    "5   XGBoost  1.9236  2.7438    0.9306"
   ]
  },
  {
   "cell_type": "code",
   "execution_count": null,
   "id": "8797579c-1fb7-48cc-a7f0-4c525c78aee6",
   "metadata": {},
   "outputs": [],
   "source": []
  }
 ],
 "metadata": {
  "kernelspec": {
   "display_name": "Python 3 (ipykernel)",
   "language": "python",
   "name": "python3"
  },
  "language_info": {
   "codemirror_mode": {
    "name": "ipython",
    "version": 3
   },
   "file_extension": ".py",
   "mimetype": "text/x-python",
   "name": "python",
   "nbconvert_exporter": "python",
   "pygments_lexer": "ipython3",
   "version": "3.9.0"
  }
 },
 "nbformat": 4,
 "nbformat_minor": 5
}
